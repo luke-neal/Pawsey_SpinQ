{
 "cells": [
  {
   "attachments": {},
   "cell_type": "markdown",
   "metadata": {},
   "source": [
    "# Introduction to Quantum Computing\n",
    "\n",
    "This notebook gives a concise introduction to some of the fundamental principles of quantum computing. It is targeted at those that have some basic understanding of the background subject matter.\n",
    "\n",
    "## 1. The Qubit\n",
    "\n",
    "For those that have an understanding of how a classical computer works, you may be familiar with the 'bit'. The bit is the fundamental unit of information in classical computing, and takes on a value of either 0 or 1. Every operation performed on a classical computer can be thought of as a series of operations (or 'logic gates') performed using bits.\n",
    "\n",
    "Similarly, quantum computing has the 'qubit'. It is the fundamental unit of information in quantum computing, and when it is measured it will also take on a value of either 0 or 1, just like the bit.\n",
    "\n",
    "## 2. Quantum Logic Gates"
   ]
  },
  {
   "cell_type": "code",
   "execution_count": null,
   "metadata": {},
   "outputs": [],
   "source": []
  }
 ],
 "metadata": {
  "kernelspec": {
   "display_name": "Python 3",
   "language": "python",
   "name": "python3"
  },
  "language_info": {
   "name": "python",
   "version": "3.10.6 (main, Nov 14 2022, 16:10:14) [GCC 11.3.0]"
  },
  "orig_nbformat": 4,
  "vscode": {
   "interpreter": {
    "hash": "916dbcbb3f70747c44a77c7bcd40155683ae19c65e1c03b4aa3499c5328201f1"
   }
  }
 },
 "nbformat": 4,
 "nbformat_minor": 2
}
